{
 "cells": [
  {
   "cell_type": "code",
   "execution_count": 1,
   "id": "815dc025",
   "metadata": {},
   "outputs": [
    {
     "name": "stdout",
     "output_type": "stream",
     "text": [
      "Collecting python-pptx\n",
      "  Downloading python_pptx-1.0.2-py3-none-any.whl.metadata (2.5 kB)\n",
      "Requirement already satisfied: Pillow>=3.3.2 in c:\\users\\yasha\\anaconda3\\lib\\site-packages (from python-pptx) (10.3.0)\n",
      "Collecting XlsxWriter>=0.5.7 (from python-pptx)\n",
      "  Downloading XlsxWriter-3.2.3-py3-none-any.whl.metadata (2.7 kB)\n",
      "Requirement already satisfied: lxml>=3.1.0 in c:\\users\\yasha\\anaconda3\\lib\\site-packages (from python-pptx) (5.2.1)\n",
      "Requirement already satisfied: typing-extensions>=4.9.0 in c:\\users\\yasha\\anaconda3\\lib\\site-packages (from python-pptx) (4.11.0)\n",
      "Downloading python_pptx-1.0.2-py3-none-any.whl (472 kB)\n",
      "   ---------------------------------------- 0.0/472.8 kB ? eta -:--:--\n",
      "   -- ------------------------------------- 30.7/472.8 kB ? eta -:--:--\n",
      "   ----- --------------------------------- 61.4/472.8 kB 656.4 kB/s eta 0:00:01\n",
      "   ----- --------------------------------- 71.7/472.8 kB 653.6 kB/s eta 0:00:01\n",
      "   ----------------- ---------------------- 204.8/472.8 kB 1.2 MB/s eta 0:00:01\n",
      "   ------------------------------ --------- 358.4/472.8 kB 1.9 MB/s eta 0:00:01\n",
      "   ---------------------------------------- 472.8/472.8 kB 2.1 MB/s eta 0:00:00\n",
      "Downloading XlsxWriter-3.2.3-py3-none-any.whl (169 kB)\n",
      "   ---------------------------------------- 0.0/169.4 kB ? eta -:--:--\n",
      "   ---------------------------------------- 169.4/169.4 kB 5.1 MB/s eta 0:00:00\n",
      "Installing collected packages: XlsxWriter, python-pptx\n",
      "Successfully installed XlsxWriter-3.2.3 python-pptx-1.0.2\n"
     ]
    }
   ],
   "source": [
    "!pip install python-pptx\n",
    "\n"
   ]
  },
  {
   "cell_type": "code",
   "execution_count": 2,
   "id": "678f8ae9",
   "metadata": {},
   "outputs": [],
   "source": [
    "from pptx import Presentation\n",
    "\n",
    "# Create a presentation object\n",
    "prs = Presentation()\n",
    "\n",
    "# Title slide\n",
    "slide = prs.slides.add_slide(prs.slide_layouts[0])\n",
    "slide.shapes.title.text = \"SyncPro Bot Deployment\"\n",
    "slide.placeholders[1].text = \"Using Gemini 2.0 API, Streamlit & AWS EC2\"\n"
   ]
  },
  {
   "cell_type": "code",
   "execution_count": 3,
   "id": "abd91568",
   "metadata": {},
   "outputs": [],
   "source": [
    "# Slide 2: Project Overview\n",
    "slide = prs.slides.add_slide(prs.slide_layouts[1])\n",
    "slide.shapes.title.text = \"Project Overview\"\n",
    "slide.placeholders[1].text = (\n",
    "    \"• Built with Gemini 2.0 API\\n\"\n",
    "    \"• Streamlit for UI\\n\"\n",
    "    \"• Deployed on AWS EC2\\n\"\n",
    "    \"• CI/CD via GitHub Actions\"\n",
    ")\n",
    "\n",
    "# Slide 3: Architecture\n",
    "slide = prs.slides.add_slide(prs.slide_layouts[1])\n",
    "slide.shapes.title.text = \"Deployment Architecture\"\n",
    "slide.placeholders[1].text = (\n",
    "    \"1. Code pushed to GitHub\\n\"\n",
    "    \"2. GitHub Actions run CI/CD\\n\"\n",
    "    \"3. EC2 pulls latest build\\n\"\n",
    "    \"4. Streamlit runs the bot\"\n",
    ")\n"
   ]
  },
  {
   "cell_type": "code",
   "execution_count": 4,
   "id": "0064c291",
   "metadata": {},
   "outputs": [
    {
     "name": "stdout",
     "output_type": "stream",
     "text": [
      "✅ PPT file created successfully!\n"
     ]
    }
   ],
   "source": [
    "# Save to file\n",
    "prs.save(\"SyncPro_Bot_Presentation.pptx\")\n",
    "print(\"✅ PPT file created successfully!\")\n"
   ]
  },
  {
   "cell_type": "code",
   "execution_count": null,
   "id": "c3ecb2eb",
   "metadata": {},
   "outputs": [],
   "source": []
  }
 ],
 "metadata": {
  "kernelspec": {
   "display_name": "base",
   "language": "python",
   "name": "python3"
  },
  "language_info": {
   "codemirror_mode": {
    "name": "ipython",
    "version": 3
   },
   "file_extension": ".py",
   "mimetype": "text/x-python",
   "name": "python",
   "nbconvert_exporter": "python",
   "pygments_lexer": "ipython3",
   "version": "3.12.4"
  }
 },
 "nbformat": 4,
 "nbformat_minor": 5
}
