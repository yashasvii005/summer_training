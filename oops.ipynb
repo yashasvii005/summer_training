{
 "cells": [
  {
   "cell_type": "code",
   "execution_count": 3,
   "id": "69511d35",
   "metadata": {},
   "outputs": [],
   "source": [
    "class HouseDesign:\n",
    " color=\"red\""
   ]
  },
  {
   "cell_type": "code",
   "execution_count": 4,
   "id": "89890844",
   "metadata": {},
   "outputs": [
    {
     "name": "stdout",
     "output_type": "stream",
     "text": [
      "red\n"
     ]
    }
   ],
   "source": [
    "# object=class()\n",
    "h1=HouseDesign()\n",
    "print(h1.color)"
   ]
  },
  {
   "cell_type": "code",
   "execution_count": 7,
   "id": "f119cb4e",
   "metadata": {},
   "outputs": [
    {
     "name": "stdout",
     "output_type": "stream",
     "text": [
      "Blue\n"
     ]
    }
   ],
   "source": [
    "yashasvi=HouseDesign()\n",
    "yashasvi.color=\"Blue\"\n",
    "print(yashasvi.color)"
   ]
  },
  {
   "cell_type": "code",
   "execution_count": 11,
   "id": "3cb3a304",
   "metadata": {},
   "outputs": [],
   "source": [
    "# constructors\n",
    "# #constructors are the function which is used to assign the memory address for an object\n",
    "class HouseDesign:\n",
    "    def __init__(self):\n",
    "        print(\"mistri agye\")\n",
    "        color=\"yellow\" \n",
    "        \n",
    "    "
   ]
  },
  {
   "cell_type": "code",
   "execution_count": 12,
   "id": "4e17a7c7",
   "metadata": {},
   "outputs": [
    {
     "name": "stdout",
     "output_type": "stream",
     "text": [
      "mistri agye\n"
     ]
    }
   ],
   "source": [
    "h1=HouseDesign()\n"
   ]
  }
 ],
 "metadata": {
  "kernelspec": {
   "display_name": "base",
   "language": "python",
   "name": "python3"
  },
  "language_info": {
   "codemirror_mode": {
    "name": "ipython",
    "version": 3
   },
   "file_extension": ".py",
   "mimetype": "text/x-python",
   "name": "python",
   "nbconvert_exporter": "python",
   "pygments_lexer": "ipython3",
   "version": "3.12.4"
  }
 },
 "nbformat": 4,
 "nbformat_minor": 5
}
